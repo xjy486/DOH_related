{
 "cells": [
  {
   "cell_type": "code",
   "execution_count": 2,
   "metadata": {},
   "outputs": [],
   "source": [
    "import pandas as pd\n",
    "import os"
   ]
  },
  {
   "cell_type": "code",
   "execution_count": 4,
   "metadata": {},
   "outputs": [],
   "source": [
    "dir_benign=\"C:\\\\Users\\\\xujy\\\\Desktop\\\\doh-tunneling\\\\benign\"\n",
    "dir_malicious=\"C:\\\\Users\\\\xujy\\\\Desktop\\\\doh-tunneling\\\\malicious\""
   ]
  },
  {
   "cell_type": "code",
   "execution_count": 5,
   "metadata": {},
   "outputs": [],
   "source": [
    "files=[\n",
    "    \"AdGuard.csv\",\n",
    "    \"Cloudflare.csv\",\n",
    "    \"Google.csv\",\n",
    "    \"Quad9.csv\",   \n",
    "]"
   ]
  },
  {
   "cell_type": "code",
   "execution_count": 23,
   "metadata": {},
   "outputs": [],
   "source": [
    "dataframes=[]\n",
    "for file in files:\n",
    "    df_benign=pd.read_csv(dir_benign+\"\\\\\"+file).iloc[:,:-2]\n",
    "    df_malicious=pd.read_csv(dir_malicious+\"\\\\\"+file).iloc[:,:-2]\n",
    "    df=pd.concat([df_benign,df_malicious])\n",
    "    df.to_csv(file,index=False)\n",
    "    dataframes.append(df)\n",
    "dataframe=pd.concat(dataframes)\n",
    "dataframe.to_csv(\"all.csv\",index=False)"
   ]
  }
 ],
 "metadata": {
  "kernelspec": {
   "display_name": "traffic",
   "language": "python",
   "name": "python3"
  },
  "language_info": {
   "codemirror_mode": {
    "name": "ipython",
    "version": 3
   },
   "file_extension": ".py",
   "mimetype": "text/x-python",
   "name": "python",
   "nbconvert_exporter": "python",
   "pygments_lexer": "ipython3",
   "version": "3.10.15"
  }
 },
 "nbformat": 4,
 "nbformat_minor": 2
}
