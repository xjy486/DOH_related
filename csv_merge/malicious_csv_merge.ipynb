{
 "cells": [
  {
   "cell_type": "code",
   "execution_count": 1,
   "metadata": {},
   "outputs": [],
   "source": [
    "import pandas as pd\n",
    "import os\n"
   ]
  },
  {
   "cell_type": "code",
   "execution_count": 11,
   "metadata": {},
   "outputs": [],
   "source": [
    "def scan_directory_recursively(directory):\n",
    "    file_names = []\n",
    "    for root, dirs, files in os.walk(directory):\n",
    "        for file in files:\n",
    "            file_names.append(os.path.join(root, file))\n",
    "    return file_names\n",
    "\n",
    "directory_to_scan = \"D:\\\\PCAP_FILE\\\\Malicious_csv\"\n",
    "files_list = scan_directory_recursively(directory_to_scan)"
   ]
  },
  {
   "cell_type": "code",
   "execution_count": 14,
   "metadata": {},
   "outputs": [],
   "source": [
    "DNS_server={\n",
    "    \"AdGuard\":[],\n",
    "    \"Cloudflare\":[],\n",
    "    \"Google\":[],\n",
    "    \"Quad9\":[],\n",
    "    \n",
    "}\n",
    "for file in files_list:\n",
    "    if file.split(\"\\\\\")[-1].startswith(\"AdGuard\"):\n",
    "        DNS_server[\"AdGuard\"].append(file)\n",
    "    elif file.split(\"\\\\\")[-1].startswith(\"Cloudflare\"):\n",
    "        DNS_server[\"Cloudflare\"].append(file)\n",
    "    elif file.split(\"\\\\\")[-1].startswith(\"Google\"):\n",
    "        DNS_server[\"Google\"].append(file)\n",
    "    elif file.split(\"\\\\\")[-1].startswith(\"Quad9\"):\n",
    "        DNS_server[\"Quad9\"].append(file)"
   ]
  },
  {
   "cell_type": "code",
   "execution_count": 23,
   "metadata": {},
   "outputs": [
    {
     "name": "stdout",
     "output_type": "stream",
     "text": [
      "AdGuard\n",
      "\n",
      "\n",
      "D:\\PCAP_FILE\\Malicious_csv\\dnscat2\\AdGuard_dsncat2_txt-baseline_doh10_malicious.csv: No columns to parse from file\n",
      "D:\\PCAP_FILE\\Malicious_csv\\dnscat2\\AdGuard_dsncat2_txt-baseline_doh1_malicious.csv: No columns to parse from file\n",
      "D:\\PCAP_FILE\\Malicious_csv\\dnscat2\\AdGuard_dsncat2_txt-baseline_doh2_malicious.csv: No columns to parse from file\n",
      "D:\\PCAP_FILE\\Malicious_csv\\dnscat2\\AdGuard_dsncat2_txt-baseline_doh3_malicious.csv: No columns to parse from file\n",
      "D:\\PCAP_FILE\\Malicious_csv\\dnscat2\\AdGuard_dsncat2_txt-baseline_doh4_malicious.csv: No columns to parse from file\n",
      "D:\\PCAP_FILE\\Malicious_csv\\dnscat2\\AdGuard_dsncat2_txt-baseline_doh5_malicious.csv: No columns to parse from file\n",
      "D:\\PCAP_FILE\\Malicious_csv\\dnscat2\\AdGuard_dsncat2_txt-baseline_doh6_malicious.csv: No columns to parse from file\n",
      "D:\\PCAP_FILE\\Malicious_csv\\dnscat2\\AdGuard_dsncat2_txt-baseline_doh7_malicious.csv: No columns to parse from file\n",
      "D:\\PCAP_FILE\\Malicious_csv\\dnscat2\\AdGuard_dsncat2_txt-baseline_doh8_malicious.csv: No columns to parse from file\n",
      "D:\\PCAP_FILE\\Malicious_csv\\dnscat2\\AdGuard_dsncat2_txt-baseline_doh9_malicious.csv: No columns to parse from file\n",
      "Cloudflare\n",
      "\n",
      "\n",
      "D:\\PCAP_FILE\\Malicious_csv\\dnscat2\\Cloudflare_dsncat2_txt-baseline_doh5_malicious.csv: No columns to parse from file\n",
      "D:\\PCAP_FILE\\Malicious_csv\\dnscat2\\Cloudflare_dsncat2_txt-baseline_doh9_malicious.csv: No columns to parse from file\n",
      "Google\n",
      "\n",
      "\n",
      "D:\\PCAP_FILE\\Malicious_csv\\dnscat2\\Google_dsncat2_txt-baseline_doh10_malicious.csv: No columns to parse from file\n",
      "D:\\PCAP_FILE\\Malicious_csv\\dnscat2\\Google_dsncat2_txt-baseline_doh1_malicious.csv: No columns to parse from file\n",
      "D:\\PCAP_FILE\\Malicious_csv\\dnscat2\\Google_dsncat2_txt-baseline_doh2_malicious.csv: No columns to parse from file\n",
      "D:\\PCAP_FILE\\Malicious_csv\\dnscat2\\Google_dsncat2_txt-baseline_doh3_malicious.csv: No columns to parse from file\n",
      "D:\\PCAP_FILE\\Malicious_csv\\dnscat2\\Google_dsncat2_txt-baseline_doh4_malicious.csv: No columns to parse from file\n",
      "D:\\PCAP_FILE\\Malicious_csv\\dnscat2\\Google_dsncat2_txt-baseline_doh5_malicious.csv: No columns to parse from file\n",
      "D:\\PCAP_FILE\\Malicious_csv\\dnscat2\\Google_dsncat2_txt-baseline_doh6_malicious.csv: No columns to parse from file\n",
      "D:\\PCAP_FILE\\Malicious_csv\\dnscat2\\Google_dsncat2_txt-baseline_doh7_malicious.csv: No columns to parse from file\n",
      "D:\\PCAP_FILE\\Malicious_csv\\dnscat2\\Google_dsncat2_txt-baseline_doh8_malicious.csv: No columns to parse from file\n",
      "D:\\PCAP_FILE\\Malicious_csv\\dnscat2\\Google_dsncat2_txt-baseline_doh9_malicious.csv: No columns to parse from file\n",
      "Quad9\n",
      "\n",
      "\n",
      "D:\\PCAP_FILE\\Malicious_csv\\dnscat2\\Quad9_dsncat2_txt-baseline_doh10_malicious.csv: No columns to parse from file\n",
      "D:\\PCAP_FILE\\Malicious_csv\\dnscat2\\Quad9_dsncat2_txt-baseline_doh1_malicious.csv: No columns to parse from file\n",
      "D:\\PCAP_FILE\\Malicious_csv\\dnscat2\\Quad9_dsncat2_txt-baseline_doh2_malicious.csv: No columns to parse from file\n",
      "D:\\PCAP_FILE\\Malicious_csv\\dnscat2\\Quad9_dsncat2_txt-baseline_doh3_malicious.csv: No columns to parse from file\n",
      "D:\\PCAP_FILE\\Malicious_csv\\dnscat2\\Quad9_dsncat2_txt-baseline_doh4_malicious.csv: No columns to parse from file\n",
      "D:\\PCAP_FILE\\Malicious_csv\\dnscat2\\Quad9_dsncat2_txt-baseline_doh5_malicious.csv: No columns to parse from file\n",
      "D:\\PCAP_FILE\\Malicious_csv\\dnscat2\\Quad9_dsncat2_txt-baseline_doh6_malicious.csv: No columns to parse from file\n",
      "D:\\PCAP_FILE\\Malicious_csv\\dnscat2\\Quad9_dsncat2_txt-baseline_doh7_malicious.csv: No columns to parse from file\n",
      "D:\\PCAP_FILE\\Malicious_csv\\dnscat2\\Quad9_dsncat2_txt-baseline_doh8_malicious.csv: No columns to parse from file\n",
      "D:\\PCAP_FILE\\Malicious_csv\\dnscat2\\Quad9_dsncat2_txt-baseline_doh9_malicious.csv: No columns to parse from file\n"
     ]
    }
   ],
   "source": [
    "for dns_server,files in DNS_server.items():\n",
    "    print(dns_server)\n",
    "    print(\"\\n\")\n",
    "    dataframes=[]\n",
    "    for file in files:\n",
    "        try:\n",
    "            df=pd.read_csv(file)\n",
    "            dataframes.append(df)\n",
    "        except Exception as e:\n",
    "            print(f\"{file}: {e}\")\n",
    "    df_dns_server=pd.concat(dataframes)\n",
    "    csv_name=dns_server+\".csv\"\n",
    "    # 把数据保存为csv为文本\n",
    "    df_dns_server.to_csv(csv_name,index=False)"
   ]
  }
 ],
 "metadata": {
  "kernelspec": {
   "display_name": "traffic",
   "language": "python",
   "name": "python3"
  },
  "language_info": {
   "codemirror_mode": {
    "name": "ipython",
    "version": 3
   },
   "file_extension": ".py",
   "mimetype": "text/x-python",
   "name": "python",
   "nbconvert_exporter": "python",
   "pygments_lexer": "ipython3",
   "version": "3.10.15"
  }
 },
 "nbformat": 4,
 "nbformat_minor": 2
}
